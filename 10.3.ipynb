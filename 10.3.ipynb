{
 "cells": [
  {
   "cell_type": "code",
   "execution_count": 18,
   "id": "initial_id",
   "metadata": {
    "collapsed": true,
    "ExecuteTime": {
     "end_time": "2023-10-08T18:06:14.846804900Z",
     "start_time": "2023-10-08T18:06:14.786862300Z"
    }
   },
   "outputs": [
    {
     "name": "stdout",
     "output_type": "stream",
     "text": [
      "a\n",
      "world\n",
      "hello\n"
     ]
    }
   ],
   "source": [
    "'''\n",
    "hex2string\n",
    "converts a text string to a string, containing the hexadecimal representation of the text string\n",
    "string -> string\n",
    "'''\n",
    "\n",
    "def hex2string(hex_s):\n",
    "    bin_num = bin(int(hex_s, base = 16))[2:]\n",
    "    while len(bin_num)%8 != 0:\n",
    "        bin_num = \"0\" + bin_num\n",
    "    # print(bin_num)\n",
    "    \n",
    "    text_s = \"\"\n",
    "    for i in range(0, len(bin_num), 8):\n",
    "        chunk = bin_num[i: i+8]\n",
    "        dec_num = int(chunk, 2)\n",
    "        text_s = text_s + chr(dec_num)\n",
    "    return text_s\n",
    "\n",
    "print(hex2string(\"61\"))\n",
    "print(hex2string(\"776f726c64\"))\n",
    "print(hex2string(\"68656c6c6f\"))"
   ]
  },
  {
   "cell_type": "code",
   "execution_count": 14,
   "outputs": [
    {
     "name": "stdout",
     "output_type": "stream",
     "text": [
      "61\n",
      "68656c6c6f\n",
      "776f726c64\n",
      "666f6f\n"
     ]
    }
   ],
   "source": [
    "'''\n",
    "string2hex\n",
    "converts a string, containing the hexadecimal representation of a text, to the original text string.\n",
    "inverse of the hex2string function\n",
    "'''\n",
    "def string2hex(text_s):\n",
    "    hex_s = \"\"\n",
    "    for i in range(0, len(text_s), 1):\n",
    "        dec_num = hex(ord(text_s[i]))[2:]\n",
    "        hex_s = hex_s + str(dec_num)\n",
    "        \n",
    "    return hex_s\n",
    "\n",
    "print(string2hex(\"a\"))\n",
    "print(string2hex(\"hello\"))\n",
    "print(string2hex(\"world\"))\n",
    "print(string2hex(\"foo\"))"
   ],
   "metadata": {
    "collapsed": false,
    "ExecuteTime": {
     "end_time": "2023-10-08T18:03:57.533701300Z",
     "start_time": "2023-10-08T18:03:57.478731400Z"
    }
   },
   "id": "92a4b4746c68267"
  },
  {
   "cell_type": "code",
   "execution_count": 9,
   "outputs": [
    {
     "name": "stdout",
     "output_type": "stream",
     "text": [
      "00001010101010111011111100010001\n",
      "00010010001101000101011001111000\n",
      "00011000100111111110100101101001\n",
      "189fe969\n"
     ]
    }
   ],
   "source": [
    "'''\n",
    "hex_xor\n",
    "xor bitwise two string that contains a number hexadecimal representations\n",
    "'''\n",
    "def hex_xor(hex_s1, hex_s2):\n",
    "    bin_s1 = bin(int(hex_s1,16))[2:]\n",
    "    bin_s2 = bin(int(hex_s2,16))[2:]\n",
    "    while len(bin_s1)%8 != 0:\n",
    "        bin_s1 = \"0\" + bin_s1\n",
    "    while len(bin_s2)%8 != 0:\n",
    "        bin_s2 = \"0\" + bin_s2\n",
    "    # 转换成十进制对比试试\n",
    "    print(bin_s1)\n",
    "    print(bin_s2)\n",
    "    \n",
    "    xor_result = \"\"\n",
    "    for i in range(0, len(bin_s1), 1):\n",
    "        xor_result = xor_result + bin(int(bin_s1[i]) ^ int(bin_s2[i]))[2:]\n",
    "    print(xor_result)\n",
    "    \n",
    "    xor_result = hex(int(xor_result,2))[2:].zfill(len(hex_s1))\n",
    "    return xor_result\n",
    "\n",
    "print(hex_xor(\"aabbf11\",\"12345678\"))\n",
    "# print(hex_xor('12cc','12cc'))\n",
    "# print(hex_xor('1234','2345'))\n",
    "# print(hex_xor(\"111\",\"248\"))\n",
    "# print(hex_xor('8888888','1234567'))"
   ],
   "metadata": {
    "collapsed": false,
    "ExecuteTime": {
     "end_time": "2023-10-08T17:59:22.999915500Z",
     "start_time": "2023-10-08T17:59:22.924927700Z"
    }
   },
   "id": "ec5be4254b5190a4"
  },
  {
   "cell_type": "code",
   "execution_count": 46,
   "outputs": [
    {
     "name": "stdout",
     "output_type": "stream",
     "text": [
      "re: 1100001011001111110001101100011011000101\n",
      "c2cfc6c6c5\n",
      "re: 1100001011001111110001101100011011000101\n",
      "re: 0110100001100101011011000110110001101111\n",
      "hello\n"
     ]
    }
   ],
   "source": [
    "'''\n",
    "encrypt_single_byte_xor\n",
    "encrypts a hexadecimal input with one byte repeating hexadeciaml key\n",
    "'''\n",
    "def encrypt_single_byte_xor(s1,s2):\n",
    "    bin_s1 = bin(int(s1,16))[2:]\n",
    "    bin_s2 = bin(int(s2,16))[2:]\n",
    "    while len(bin_s1)%8 != 0:\n",
    "        bin_s1 = \"0\" + bin_s1\n",
    "    while len(bin_s2)<len(bin_s1):\n",
    "        bin_s2 = bin_s2 + bin_s2\n",
    "    # 转换成十进制对比试试\n",
    "    # print(\"s1:\",bin_s1)\n",
    "    # print(\"s2:\",bin_s2)\n",
    "    # result = hex_xor(s1,s2)\n",
    "    \n",
    "    result = \"\"\n",
    "    for i in range(0, len(bin_s1), 1):\n",
    "        result = result + bin(int(bin_s1[i]) ^ int(bin_s2[i]))[2:]\n",
    "    print(\"re:\",result)\n",
    "    \n",
    "    result = hex(int(result,2))[2:].zfill(len(s1))\n",
    "    \n",
    "    return result\n",
    "\n",
    "# print(encrypt_single_byte_xor('aaabbccc',\"00\"))\n",
    "print(encrypt_single_byte_xor(string2hex('hello'),\"aa\"))\n",
    "print(hex2string(encrypt_single_byte_xor(encrypt_single_byte_xor(string2hex('hello'),'aa'),'aa')))"
   ],
   "metadata": {
    "collapsed": false,
    "ExecuteTime": {
     "end_time": "2023-10-08T21:16:28.199768600Z",
     "start_time": "2023-10-08T21:16:28.127755900Z"
    }
   },
   "id": "91e729742e62da8"
  },
  {
   "cell_type": "code",
   "execution_count": 106,
   "outputs": [
    {
     "name": "stdout",
     "output_type": "stream",
     "text": [
      "s1: 11100001110111101101100110010110110111011101100011011001110000011100010110010110110000011101111011010111110000101001011011011111110001011001011011011110110101111100011011000110110100111101100011011111110110001101000110001001100101101110000111011110110100111100010011010011100101101101011111011011100101101111111110001001 \n",
      "length: 320\n",
      "Who knows what is happening? Where am I?\n"
     ]
    }
   ],
   "source": [
    "valid_characters = \"abcdefg hijklmn opqrst uvwxyz ABCDEFGHIJKLMNOPQRSTUVWXYZ!?\"\n",
    "def decrypt_single_byte_xor(hex_string):\n",
    "    #1.hex2dec\n",
    "    s1 = bin(int(hex_string,16))[2:]\n",
    "    while len(s1)%8 != 0:\n",
    "        s1 = \"0\" + s1\n",
    "    # print(\"s1:\",s1,\"\\nlength:\",len(s1))\n",
    "    \n",
    "    num = 0\n",
    "    while num <= 255:\n",
    "        # print(num)\n",
    "        #2.find key\n",
    "        key1 = bin(num)[2:]\n",
    "        key2 = key1\n",
    "        while len(key2)<len(s1):\n",
    "            # print(i)\n",
    "            key2 = key2 + key1\n",
    "            # i += 1\n",
    "        # print(\"key:\",key2,\"\\nlength:\",len(key2))\n",
    "    \n",
    "        #3.do xor calculate and find the decrypted text\n",
    "        dcp_s2 = \"\"\n",
    "        for i in range(0, len(s1), 1):\n",
    "            dcp_s2 = dcp_s2 + bin(int(s1[i]) ^ int(key2[i]))[2:]\n",
    "        # print(\"dcp_s2:\",dcp_s2,\"\\n\")\n",
    "    \n",
    "        #bin2string\n",
    "        text_string = \"\"\n",
    "        for i in range(0, len(dcp_s2), 8):\n",
    "            chunk = dcp_s2[i: i+8]\n",
    "            dec_num = int(chunk, 2)\n",
    "            text_string = text_string + chr(dec_num)\n",
    "        result = text_string\n",
    "        # print(result)\n",
    "        \n",
    "        if all(char in valid_characters for char in result):\n",
    "            return result\n",
    "            break\n",
    "        else:\n",
    "            num += 1\n",
    "\n",
    "# print(decrypt_single_byte_xor(\"c2cfc6c6c5\"))\n",
    "# print(decrypt_single_byte_xor(\"e9c88081f8ced481c9c0d7c481c7ced4cfc581ccc480\"))\n",
    "# print(decrypt_single_byte_xor(\"b29e9f96839085849d9085989e9f82d1889e84d199908794d197989f95d1859994d181908282869e8395d0\"))\n",
    "print(decrypt_single_byte_xor(\"e1ded996ddd8d9c1c596c1ded7c296dfc596ded7c6c6d3d8dfd8d18996e1ded3c4d396d7db96ff89\"))"
   ],
   "metadata": {
    "collapsed": false,
    "ExecuteTime": {
     "end_time": "2023-10-08T22:52:00.385052100Z",
     "start_time": "2023-10-08T22:52:00.296374600Z"
    }
   },
   "id": "b4069e7693648f30"
  },
  {
   "cell_type": "code",
   "execution_count": 83,
   "outputs": [
    {
     "name": "stdout",
     "output_type": "stream",
     "text": [
      "re: 01000011011011110110111001100111011100100110000101110100011101010110110001100001011101000110100101101111011011100111001100100000011110010110111101110101001000000110100001100001011101100110010100100000011001100110100101101110011001000010000001110100011010000110010100100000011100000110000101110011011100110111011101101111011100100110010000100001\n",
      "436f6e67726174756c6174696f6e7320796f7520686176652066696e64207468652070617373776f726421\n",
      "re: 01000011011011110110111001100111011100100110000101110100011101010110110001100001011101000110100101101111011011100111001100100000011110010110111101110101001000000110100001100001011101100110010100100000011001100110100101101110011001000010000001110100011010000110010100100000011100000110000101110011011100110111011101101111011100100110010000100001\n",
      "Congratulations you have find the password!\n"
     ]
    }
   ],
   "source": [
    "# print(string2hex(\"Hi! You have found me!\"))\n",
    "print(encrypt_single_byte_xor(\"b29e9f96839085849d9085989e9f82d1889e84d199908794d197989f95d1859994d181908282869e8395d0\",\"f1\"))\n",
    "print(hex2string(encrypt_single_byte_xor(\"b29e9f96839085849d9085989e9f82d1889e84d199908794d197989f95d1859994d181908282869e8395d0\",\"f1\")))"
   ],
   "metadata": {
    "collapsed": false,
    "ExecuteTime": {
     "end_time": "2023-10-08T22:20:21.057726100Z",
     "start_time": "2023-10-08T22:20:20.978774Z"
    }
   },
   "id": "92573ea73288dfcd"
  },
  {
   "cell_type": "code",
   "execution_count": 26,
   "outputs": [
    {
     "name": "stdout",
     "output_type": "stream",
     "text": [
      "无法解密。\n",
      "None\n"
     ]
    }
   ],
   "source": [
    "valid_characters = \"abcdefghijklmnopqrstuvxyz ABCDEFGHIJKLMNOPQRSTUVXYZ\"\n",
    "def hex_decrypt_and_output(hex_cipher, valid_characters):\n",
    "    for key in range(256):  # 尝试所有可能的十六进制密钥（0-255）\n",
    "        # hex_key = format(key, '02x')  # 将密钥格式化为两位十六进制\n",
    "        decrypted_hex = []\n",
    "\n",
    "        for i in range(0, len(hex_cipher), 2):\n",
    "            hex_byte = hex_cipher[i:i + 2]\n",
    "            decrypted_byte = format(int(hex_byte, 16) ^ key, '02x')\n",
    "            decrypted_hex.append(decrypted_byte)\n",
    "\n",
    "        decrypted_hex_str = ''.join(decrypted_hex)\n",
    "        try:\n",
    "            plaintext = bytes.fromhex(decrypted_hex_str).decode('utf-8')\n",
    "            if all(c in valid_characters for c in plaintext):\n",
    "                print(f\"解密后的文本: {plaintext}\")\n",
    "                return\n",
    "        except UnicodeDecodeError:\n",
    "            pass\n",
    "\n",
    "    print(\"无法解密。\")\n",
    "\n",
    "print(hex_decrypt_and_output('e9c88081f8ced481c9c0d7c481c7ced4cfc581ccc480',valid_characters))"
   ],
   "metadata": {
    "collapsed": false,
    "ExecuteTime": {
     "end_time": "2023-10-08T20:35:01.833636200Z",
     "start_time": "2023-10-08T20:35:01.826026200Z"
    }
   },
   "id": "e641efea09307555"
  }
 ],
 "metadata": {
  "kernelspec": {
   "display_name": "Python 3",
   "language": "python",
   "name": "python3"
  },
  "language_info": {
   "codemirror_mode": {
    "name": "ipython",
    "version": 2
   },
   "file_extension": ".py",
   "mimetype": "text/x-python",
   "name": "python",
   "nbconvert_exporter": "python",
   "pygments_lexer": "ipython2",
   "version": "2.7.6"
  }
 },
 "nbformat": 4,
 "nbformat_minor": 5
}
