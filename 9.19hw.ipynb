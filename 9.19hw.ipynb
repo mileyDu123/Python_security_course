{
 "cells": [
  {
   "cell_type": "code",
   "execution_count": 25,
   "id": "initial_id",
   "metadata": {
    "collapsed": true,
    "ExecuteTime": {
     "end_time": "2023-09-19T09:03:22.714807900Z",
     "start_time": "2023-09-19T09:03:22.709229800Z"
    }
   },
   "outputs": [],
   "source": [
    "'''\n",
    "The function accepts a list of integers.\n",
    "Create a new list that converts the passed numbers to characters with the chr function\n",
    "Join this list of characters to a string\n",
    "Make the string lower case\n",
    "Create a string that contains the letters of the string from 2 to 10th character and put it twice after each other.\n",
    "'''\n",
    "\n",
    "def test_function(int_l):\n",
    "    \n",
    "    chr_l = [chr(i) for i in int_l]\n",
    "\n",
    "    s = ''.join(chr_l)\n",
    "        \n",
    "    s1 = s.lower()\n",
    "    s2 = s1[2:10] * 2\n",
    "    \n",
    "    print(chr_l)\n",
    "    print(s)\n",
    "    print(s1)\n",
    "    print(s2)\n",
    "    \n",
    "    return s2"
   ]
  },
  {
   "cell_type": "code",
   "execution_count": 26,
   "outputs": [
    {
     "name": "stdout",
     "output_type": "stream",
     "text": [
      "['X', 'U', 'T', 'G', 'B', 'H', 'A', 'R', 'J', 'F', 'W', 'F', 'U', 'D', 'J', 'T', 'Q', 'W', 'O', 'R']\n",
      "XUTGBHARJFWFUDJTQWOR\n",
      "xutgbharjfwfudjtqwor\n",
      "tgbharjftgbharjf\n"
     ]
    },
    {
     "data": {
      "text/plain": "'tgbharjftgbharjf'"
     },
     "execution_count": 26,
     "metadata": {},
     "output_type": "execute_result"
    }
   ],
   "source": [
    "test_function([88, 85, 84, 71, 66, 72, 65, 82, 74, 70, 87, 70, 85, 68, 74, 84, 81, 87, 79, 82])"
   ],
   "metadata": {
    "collapsed": false,
    "ExecuteTime": {
     "end_time": "2023-09-19T09:03:24.607413800Z",
     "start_time": "2023-09-19T09:03:24.597533700Z"
    }
   },
   "id": "3fb961718b589aae"
  }
 ],
 "metadata": {
  "kernelspec": {
   "display_name": "Python 3",
   "language": "python",
   "name": "python3"
  },
  "language_info": {
   "codemirror_mode": {
    "name": "ipython",
    "version": 2
   },
   "file_extension": ".py",
   "mimetype": "text/x-python",
   "name": "python",
   "nbconvert_exporter": "python",
   "pygments_lexer": "ipython2",
   "version": "2.7.6"
  }
 },
 "nbformat": 4,
 "nbformat_minor": 5
}
