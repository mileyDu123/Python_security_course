{
 "cells": [
  {
   "cell_type": "code",
   "execution_count": 1,
   "id": "initial_id",
   "metadata": {
    "collapsed": true,
    "ExecuteTime": {
     "end_time": "2023-09-27T15:56:03.197431Z",
     "start_time": "2023-09-27T15:56:03.185362600Z"
    }
   },
   "outputs": [
    {
     "name": "stdout",
     "output_type": "stream",
     "text": [
      "[12, 2]\n"
     ]
    }
   ],
   "source": [
    "import base64\n",
    "import binascii\n",
    "\n",
    "a = [1,2,3,3,4]\n",
    "b = a\n",
    "b[0] = 12\n",
    "print(a[0:2])"
   ]
  },
  {
   "cell_type": "code",
   "execution_count": 2,
   "outputs": [
    {
     "name": "stdout",
     "output_type": "stream",
     "text": [
      "[0, 1, 4, 9, 16, 25, 36, 49, 64, 81]\n"
     ]
    }
   ],
   "source": [
    "c = [x ** 2 for x in range(10)]\n",
    "print(c)"
   ],
   "metadata": {
    "collapsed": false,
    "ExecuteTime": {
     "end_time": "2023-09-27T15:57:10.487037700Z",
     "start_time": "2023-09-27T15:57:10.481381700Z"
    }
   },
   "id": "b3500f25d87736fb"
  },
  {
   "cell_type": "code",
   "execution_count": 3,
   "outputs": [
    {
     "name": "stdout",
     "output_type": "stream",
     "text": [
      "[0, 1, 4, 9, 16, 25, 36, 49, 64, 81]\n"
     ]
    }
   ],
   "source": [
    "c = []\n",
    "for x in range(10):\n",
    "    c.append(x ** 2)\n",
    "    \n",
    "print(c)"
   ],
   "metadata": {
    "collapsed": false,
    "ExecuteTime": {
     "end_time": "2023-09-27T15:58:27.364651800Z",
     "start_time": "2023-09-27T15:58:27.360749900Z"
    }
   },
   "id": "4d246e99e1e8bbff"
  },
  {
   "cell_type": "code",
   "execution_count": 1,
   "outputs": [
    {
     "name": "stdout",
     "output_type": "stream",
     "text": [
      "1111\n",
      "101\n",
      "1\n"
     ]
    }
   ],
   "source": [
    "\"\"\"\n",
    "hex2bin\n",
    "16 -> 2\n",
    "converts a string, containing the hex representation of a number to binary\n",
    "\"\"\"\n",
    "def hex2bin(s):\n",
    "    x = bin(int(s, base = 16))[2:]\n",
    "    return x\n",
    "    \n",
    "print(hex2bin('f')+'\\n'+\n",
    "      hex2bin('5')+'\\n'+\n",
    "      hex2bin('1'))"
   ],
   "metadata": {
    "collapsed": false,
    "ExecuteTime": {
     "end_time": "2023-09-30T20:17:07.242849300Z",
     "start_time": "2023-09-30T20:17:07.204867900Z"
    }
   },
   "id": "a5eed5ba8689fa35"
  },
  {
   "cell_type": "code",
   "execution_count": 38,
   "outputs": [
    {
     "name": "stdout",
     "output_type": "stream",
     "text": [
      "f\n",
      "21\n",
      "1\n"
     ]
    }
   ],
   "source": [
    "'''\n",
    "bin2hex\n",
    "2 -> 16\n",
    "string binary hexadecimal\n",
    "'''\n",
    "def bin2hex(s):\n",
    "    x = hex(int(s, base = 2))[2:]\n",
    "    return x\n",
    "    \n",
    "print(bin2hex('1111')+'\\n'+\n",
    "      bin2hex('100001')+'\\n'+\n",
    "      bin2hex('1')+'\\n')"
   ],
   "metadata": {
    "collapsed": false,
    "ExecuteTime": {
     "end_time": "2023-09-27T17:03:22.045546700Z",
     "start_time": "2023-09-27T17:03:22.040182100Z"
    }
   },
   "id": "b2a660409fbf7bf9"
  },
  {
   "cell_type": "code",
   "execution_count": 36,
   "outputs": [
    {
     "name": "stdout",
     "output_type": "stream",
     "text": [
      "00000011\n",
      "00000001\n",
      "00010111\n",
      "11100111\n",
      "0000000111001111\n"
     ]
    }
   ],
   "source": [
    "\"\"\"\n",
    "fillupbyte\n",
    "pad a string, containing binary representation of a number, to get a string length that can be divided by 8\n",
    "\"\"\"\n",
    "def fillupbyte(s):\n",
    "    while len(s)%8 != 0:\n",
    "        s = '0' + s\n",
    "    return s\n",
    "\n",
    "print(fillupbyte('011')+'\\n'+\n",
    "      fillupbyte('1')+'\\n'+\n",
    "      fillupbyte('10111')+'\\n'+\n",
    "      fillupbyte('11100111')+'\\n'+\n",
    "      fillupbyte('111001111')+'\\n')"
   ],
   "metadata": {
    "collapsed": false,
    "ExecuteTime": {
     "end_time": "2023-09-27T17:02:31.206096900Z",
     "start_time": "2023-09-27T17:02:31.202567400Z"
    }
   },
   "id": "779fdb025aec2f5"
  },
  {
   "cell_type": "code",
   "execution_count": 39,
   "outputs": [
    {
     "ename": "NameError",
     "evalue": "name 'base64' is not defined",
     "output_type": "error",
     "traceback": [
      "\u001B[1;31m---------------------------------------------------------------------------\u001B[0m",
      "\u001B[1;31mNameError\u001B[0m                                 Traceback (most recent call last)",
      "Cell \u001B[1;32mIn[39], line 9\u001B[0m\n\u001B[0;32m      6\u001B[0m     b64 \u001B[38;5;241m=\u001B[39m base64\u001B[38;5;241m.\u001B[39mb64decode(i)\n\u001B[0;32m      7\u001B[0m     \u001B[38;5;28;01mreturn\u001B[39;00m b64\n\u001B[1;32m----> 9\u001B[0m \u001B[38;5;28mprint\u001B[39m(\u001B[43mint2base64\u001B[49m\u001B[43m(\u001B[49m\u001B[38;5;241;43m0x64\u001B[39;49m\u001B[43m)\u001B[49m)\n",
      "Cell \u001B[1;32mIn[39], line 6\u001B[0m, in \u001B[0;36mint2base64\u001B[1;34m(i)\u001B[0m\n\u001B[0;32m      5\u001B[0m \u001B[38;5;28;01mdef\u001B[39;00m \u001B[38;5;21mint2base64\u001B[39m(i):\n\u001B[1;32m----> 6\u001B[0m     b64 \u001B[38;5;241m=\u001B[39m \u001B[43mbase64\u001B[49m\u001B[38;5;241m.\u001B[39mb64decode(i)\n\u001B[0;32m      7\u001B[0m     \u001B[38;5;28;01mreturn\u001B[39;00m b64\n",
      "\u001B[1;31mNameError\u001B[0m: name 'base64' is not defined"
     ]
    }
   ],
   "source": [
    "'''\n",
    "int2base64\n",
    "converts an integer to base64 format\n",
    "'''\n",
    "def int2base64(i):\n",
    "    b64 = base64.b64decode(i)\n",
    "    return b64\n",
    "\n",
    "print(int2base64(0x61))"
   ],
   "metadata": {
    "collapsed": false,
    "ExecuteTime": {
     "end_time": "2023-09-27T17:10:39.797133200Z",
     "start_time": "2023-09-27T17:10:39.765708200Z"
    }
   },
   "id": "eb7baadb2deb2687"
  },
  {
   "cell_type": "code",
   "execution_count": 4,
   "outputs": [
    {
     "name": "stdout",
     "output_type": "stream",
     "text": [
      "1111\n",
      "101\n",
      "1\n"
     ]
    }
   ],
   "source": [
    "def hex2bin(hex_str):\n",
    "    decimal_value = int(hex_str, 16)\n",
    "    bin_str = bin(decimal_value)[2:]#.rjust(len(hex_str) * 4, '0')\n",
    "    return bin_str\n",
    "\n",
    "print(hex2bin('f')+'\\n'+\n",
    "      hex2bin('5')+'\\n'+\n",
    "      hex2bin('1'))"
   ],
   "metadata": {
    "collapsed": false,
    "ExecuteTime": {
     "end_time": "2023-09-30T20:25:57.832591800Z",
     "start_time": "2023-09-30T20:25:57.795861600Z"
    }
   },
   "id": "68e00174141a0975"
  },
  {
   "cell_type": "code",
   "execution_count": 38,
   "outputs": [
    {
     "name": "stdout",
     "output_type": "stream",
     "text": [
      "YQ==\n",
      "EjRWeJq83g==\n"
     ]
    }
   ],
   "source": [
    "def hex2base641(s):\n",
    "    base64_string = \"ABCDEFGHIJKLMNOPQRSTUVWXYZabcdefghijklmnopqrstuvwxyz0123456789+/\"\n",
    "    binary = bin(int(s, base = 16))[2:]\n",
    "    # print(binary)\n",
    "    while len(binary)%8 != 0:\n",
    "        binary = \"0\" + binary\n",
    "    while len(binary)%6 != 0:\n",
    "        binary = binary + \"0\"\n",
    "    # print(binary+\"\\n\")\n",
    "    \n",
    "    result = \"\"\n",
    "    for i in range(0, len(binary), 6):\n",
    "        new_binary = binary[i:i + 6]\n",
    "        # print(\"new:\"+new_binary)\n",
    "        dec_value = int(new_binary, 2)\n",
    "        # print(\"dec:\",dec_value)\n",
    "        result += base64_string[dec_value]\n",
    "        \n",
    "        \n",
    "    add_padding = len(result) % 4\n",
    "    if add_padding > 0:\n",
    "        result += \"=\" * (4 - add_padding)\n",
    "        \n",
    "    return result\n",
    "\n",
    "# print(int(\"61\", base = 16))\n",
    "print(hex2base641('61'))\n",
    "print(hex2base641(\"123456789abcde\"))\n"
   ],
   "metadata": {
    "collapsed": false,
    "ExecuteTime": {
     "end_time": "2023-10-01T10:39:44.915356400Z",
     "start_time": "2023-10-01T10:39:44.911314700Z"
    }
   },
   "id": "950de348e61102a0"
  },
  {
   "cell_type": "code",
   "execution_count": 9,
   "outputs": [
    {
     "name": "stdout",
     "output_type": "stream",
     "text": [
      "Bh==\n"
     ]
    }
   ],
   "source": [
    "def hex2base64(hex_string):\n",
    "    # Define the base64 character set\n",
    "    base64_chars = \"ABCDEFGHIJKLMNOPQRSTUVWXYZabcdefghijklmnopqrstuvwxyz0123456789+/\"\n",
    "\n",
    "    # Convert hex to binary\n",
    "    binary_string = bin(int(hex_string, 16))[2:]\n",
    "\n",
    "    # Ensure the binary string has a multiple of 6 bits\n",
    "    while len(binary_string) % 6 != 0:\n",
    "        binary_string = '0' + binary_string\n",
    "\n",
    "    # Initialize the base64 result string\n",
    "    base64_result = \"\"\n",
    "\n",
    "    # Process the binary string in 6-bit chunks\n",
    "    for i in range(0, len(binary_string), 6):\n",
    "        chunk = binary_string[i:i + 6]\n",
    "        # Convert the 6-bit binary chunk to a decimal number\n",
    "        decimal_value = int(chunk, 2)\n",
    "        # Map the decimal value to the corresponding base64 character\n",
    "        base64_result += base64_chars[decimal_value]\n",
    "\n",
    "    # Add padding if necessary\n",
    "    padding = len(base64_result) % 4\n",
    "    if padding > 0:\n",
    "        base64_result += \"=\" * (4 - padding)\n",
    "\n",
    "    return base64_result\n",
    "\n",
    "# Test the function\n",
    "hex_string = \"61\"  # Example hex string\n",
    "base64_result = hex2base64(hex_string)\n",
    "print(base64_result)\n"
   ],
   "metadata": {
    "collapsed": false,
    "ExecuteTime": {
     "end_time": "2023-10-01T10:17:26.710496200Z",
     "start_time": "2023-10-01T10:17:26.704602Z"
    }
   },
   "id": "5bc5cec59b68cc34"
  }
 ],
 "metadata": {
  "kernelspec": {
   "display_name": "Python 3",
   "language": "python",
   "name": "python3"
  },
  "language_info": {
   "codemirror_mode": {
    "name": "ipython",
    "version": 2
   },
   "file_extension": ".py",
   "mimetype": "text/x-python",
   "name": "python",
   "nbconvert_exporter": "python",
   "pygments_lexer": "ipython2",
   "version": "2.7.6"
  }
 },
 "nbformat": 4,
 "nbformat_minor": 5
}
