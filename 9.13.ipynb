{
 "cells": [
  {
   "cell_type": "code",
   "execution_count": 38,
   "outputs": [],
   "source": [
    "### Homework1 9.11-18\n",
    "\n",
    "def bound_value(value, minimum_value=0, maximum_value=100):\n",
    "    \n",
    "    return max(minimum_value, min(value, maximum_value))"
   ],
   "metadata": {
    "collapsed": false,
    "ExecuteTime": {
     "end_time": "2023-09-17T18:52:37.155041600Z",
     "start_time": "2023-09-17T18:52:37.151432900Z"
    }
   },
   "id": "61ccb1a08dc8e81e"
  },
  {
   "cell_type": "code",
   "execution_count": 39,
   "outputs": [
    {
     "name": "stdout",
     "output_type": "stream",
     "text": [
      "12\n"
     ]
    }
   ],
   "source": [
    "print(bound_value(12))"
   ],
   "metadata": {
    "collapsed": false,
    "ExecuteTime": {
     "end_time": "2023-09-17T18:52:37.669118200Z",
     "start_time": "2023-09-17T18:52:37.664706900Z"
    }
   },
   "id": "85917c4cc2e6b50f"
  },
  {
   "cell_type": "code",
   "execution_count": 40,
   "outputs": [
    {
     "name": "stdout",
     "output_type": "stream",
     "text": [
      "0\n"
     ]
    }
   ],
   "source": [
    "print(bound_value(-2))"
   ],
   "metadata": {
    "collapsed": false,
    "ExecuteTime": {
     "end_time": "2023-09-17T18:52:38.469166200Z",
     "start_time": "2023-09-17T18:52:38.465725800Z"
    }
   },
   "id": "ebceed35b787dca8"
  },
  {
   "cell_type": "code",
   "execution_count": 41,
   "outputs": [
    {
     "name": "stdout",
     "output_type": "stream",
     "text": [
      "100\n"
     ]
    }
   ],
   "source": [
    "print(bound_value(111))"
   ],
   "metadata": {
    "collapsed": false,
    "ExecuteTime": {
     "end_time": "2023-09-17T18:52:40.055104700Z",
     "start_time": "2023-09-17T18:52:40.049586Z"
    }
   },
   "id": "527ab27bbb32f455"
  },
  {
   "cell_type": "code",
   "execution_count": 42,
   "outputs": [
    {
     "name": "stdout",
     "output_type": "stream",
     "text": [
      "0\n"
     ]
    }
   ],
   "source": [
    "print(bound_value(0))"
   ],
   "metadata": {
    "collapsed": false,
    "ExecuteTime": {
     "end_time": "2023-09-17T18:52:45.147987600Z",
     "start_time": "2023-09-17T18:52:45.145192600Z"
    }
   },
   "id": "41292e00d5778393"
  },
  {
   "cell_type": "code",
   "execution_count": 43,
   "outputs": [
    {
     "name": "stdout",
     "output_type": "stream",
     "text": [
      "1\n"
     ]
    }
   ],
   "source": [
    "print(bound_value(1))"
   ],
   "metadata": {
    "collapsed": false,
    "ExecuteTime": {
     "end_time": "2023-09-17T18:52:47.045870400Z",
     "start_time": "2023-09-17T18:52:47.040227900Z"
    }
   },
   "id": "bb22877443bfc302"
  },
  {
   "cell_type": "code",
   "execution_count": 44,
   "outputs": [
    {
     "name": "stdout",
     "output_type": "stream",
     "text": [
      "99\n"
     ]
    }
   ],
   "source": [
    "print(bound_value(99))"
   ],
   "metadata": {
    "collapsed": false,
    "ExecuteTime": {
     "end_time": "2023-09-17T18:52:48.088506600Z",
     "start_time": "2023-09-17T18:52:48.084995200Z"
    }
   },
   "id": "13e29b96851b129b"
  },
  {
   "cell_type": "code",
   "execution_count": 45,
   "outputs": [
    {
     "name": "stdout",
     "output_type": "stream",
     "text": [
      "199\n"
     ]
    }
   ],
   "source": [
    "print(bound_value(199, maximum_value=200))"
   ],
   "metadata": {
    "collapsed": false,
    "ExecuteTime": {
     "end_time": "2023-09-17T18:52:48.602417200Z",
     "start_time": "2023-09-17T18:52:48.597553900Z"
    }
   },
   "id": "9435b7b36f8b4727"
  },
  {
   "cell_type": "code",
   "execution_count": 46,
   "outputs": [
    {
     "name": "stdout",
     "output_type": "stream",
     "text": [
      "100\n"
     ]
    }
   ],
   "source": [
    "print(bound_value(199, minimum_value=100))"
   ],
   "metadata": {
    "collapsed": false,
    "ExecuteTime": {
     "end_time": "2023-09-17T18:52:50.173748600Z",
     "start_time": "2023-09-17T18:52:50.170049600Z"
    }
   },
   "id": "93a9a0f821604ab4"
  },
  {
   "cell_type": "code",
   "execution_count": 47,
   "outputs": [
    {
     "name": "stdout",
     "output_type": "stream",
     "text": [
      "100\n"
     ]
    }
   ],
   "source": [
    "print(bound_value(-100, minimum_value=100))"
   ],
   "metadata": {
    "collapsed": false,
    "ExecuteTime": {
     "end_time": "2023-09-17T18:52:51.160422Z",
     "start_time": "2023-09-17T18:52:51.156188100Z"
    }
   },
   "id": "54c4206e5a9cb632"
  },
  {
   "cell_type": "code",
   "execution_count": 48,
   "outputs": [
    {
     "name": "stdout",
     "output_type": "stream",
     "text": [
      "100\n"
     ]
    }
   ],
   "source": [
    "print(bound_value(100, minimum_value=100))"
   ],
   "metadata": {
    "collapsed": false,
    "ExecuteTime": {
     "end_time": "2023-09-17T18:52:52.524288900Z",
     "start_time": "2023-09-17T18:52:52.520132100Z"
    }
   },
   "id": "33be97fd684e9c68"
  },
  {
   "cell_type": "code",
   "execution_count": 49,
   "outputs": [
    {
     "name": "stdout",
     "output_type": "stream",
     "text": [
      "4\n"
     ]
    }
   ],
   "source": [
    "print(bound_value(100, 1, 4))"
   ],
   "metadata": {
    "collapsed": false,
    "ExecuteTime": {
     "end_time": "2023-09-17T18:52:52.987657800Z",
     "start_time": "2023-09-17T18:52:52.982123500Z"
    }
   },
   "id": "7aea47eaa59ad1e"
  },
  {
   "cell_type": "code",
   "execution_count": 50,
   "outputs": [
    {
     "name": "stdout",
     "output_type": "stream",
     "text": [
      "2\n"
     ]
    }
   ],
   "source": [
    "print(bound_value(-1, 2, 4))"
   ],
   "metadata": {
    "collapsed": false,
    "ExecuteTime": {
     "end_time": "2023-09-17T18:52:53.534207900Z",
     "start_time": "2023-09-17T18:52:53.530552200Z"
    }
   },
   "id": "e784d524c5d6c9ed"
  },
  {
   "cell_type": "code",
   "execution_count": 51,
   "outputs": [
    {
     "name": "stdout",
     "output_type": "stream",
     "text": [
      "4\n"
     ]
    }
   ],
   "source": [
    "print(bound_value(3011, 2, 4))"
   ],
   "metadata": {
    "collapsed": false,
    "ExecuteTime": {
     "end_time": "2023-09-17T18:52:53.926269200Z",
     "start_time": "2023-09-17T18:52:53.922804100Z"
    }
   },
   "id": "e7ebd838c641525c"
  },
  {
   "cell_type": "code",
   "execution_count": null,
   "outputs": [],
   "source": [],
   "metadata": {
    "collapsed": false
   },
   "id": "94c4e59368f9d8ec"
  }
 ],
 "metadata": {
  "kernelspec": {
   "display_name": "Python 3",
   "language": "python",
   "name": "python3"
  },
  "language_info": {
   "codemirror_mode": {
    "name": "ipython",
    "version": 2
   },
   "file_extension": ".py",
   "mimetype": "text/x-python",
   "name": "python",
   "nbconvert_exporter": "python",
   "pygments_lexer": "ipython2",
   "version": "2.7.6"
  }
 },
 "nbformat": 4,
 "nbformat_minor": 5
}
